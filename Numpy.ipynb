{
 "cells": [
  {
   "cell_type": "code",
   "execution_count": 52,
   "id": "d096e0f1",
   "metadata": {},
   "outputs": [],
   "source": [
    "import numpy as np"
   ]
  },
  {
   "cell_type": "code",
   "execution_count": 53,
   "id": "6815856d",
   "metadata": {},
   "outputs": [
    {
     "data": {
      "text/plain": [
       "array([1, 3])"
      ]
     },
     "execution_count": 53,
     "metadata": {},
     "output_type": "execute_result"
    }
   ],
   "source": [
    "np.array([1,3])"
   ]
  },
  {
   "cell_type": "code",
   "execution_count": 54,
   "id": "aa10608f",
   "metadata": {},
   "outputs": [
    {
     "name": "stdout",
     "output_type": "stream",
     "text": [
      "[1 3 5 7 9]\n"
     ]
    }
   ],
   "source": [
    "list = [1,3,5,7,9]\n",
    "arr = np.array(list)\n",
    "print(np.array(list,ndmin=1))"
   ]
  },
  {
   "cell_type": "code",
   "execution_count": 55,
   "id": "e6cd79a7",
   "metadata": {},
   "outputs": [
    {
     "name": "stdout",
     "output_type": "stream",
     "text": [
      "[[1 3]\n",
      " [4 6]\n",
      " [2 5]]\n"
     ]
    }
   ],
   "source": [
    "print(np.array([[1,3],[4,6],[2,5]],ndmin=2))"
   ]
  },
  {
   "cell_type": "code",
   "execution_count": 56,
   "id": "37b9728b",
   "metadata": {},
   "outputs": [
    {
     "name": "stdout",
     "output_type": "stream",
     "text": [
      "[[ 0  1  2  3]\n",
      " [ 4  5  6  7]\n",
      " [ 8  9 10 11]\n",
      " [12 13 14 15]\n",
      " [16 17 18 19]]\n",
      "[[ 0  1  2  3  4]\n",
      " [ 5  6  7  8  9]\n",
      " [10 11 12 13 14]\n",
      " [15 16 17 18 19]]\n",
      "[[ 0  1]\n",
      " [ 2  3]\n",
      " [ 4  5]\n",
      " [ 6  7]\n",
      " [ 8  9]\n",
      " [10 11]\n",
      " [12 13]\n",
      " [14 15]\n",
      " [16 17]\n",
      " [18 19]]\n"
     ]
    }
   ],
   "source": [
    "arr = np.arange(0,20,1).reshape(5,4)\n",
    "print(arr)\n",
    "arr = np.arange(0,20,1).reshape(4,5)\n",
    "print(arr)\n",
    "arr = np.arange(0,20,1).reshape(10,2)\n",
    "print(arr)"
   ]
  },
  {
   "cell_type": "markdown",
   "id": "3a0931c4",
   "metadata": {},
   "source": [
    "## Size and Shape"
   ]
  },
  {
   "cell_type": "code",
   "execution_count": 57,
   "id": "2aee193b",
   "metadata": {},
   "outputs": [
    {
     "name": "stdout",
     "output_type": "stream",
     "text": [
      "[[ 5  7 11]\n",
      " [ 2  5 10]\n",
      " [ 9  5  8]\n",
      " [ 9 22 11]]\n",
      "Total: 12\n",
      "Rows: 4\n",
      "Cols: 3\n",
      "Shape of Array: (4, 3)\n"
     ]
    }
   ],
   "source": [
    "arr = np.array([[5,7,11],[2,5,10],[9,5,8],[9,22,11]])\n",
    "print(arr)\n",
    "print(\"Total:\",np.size(arr))\n",
    "print(\"Rows:\",np.size(arr,0))\n",
    "print(\"Cols:\",np.size(arr,1))\n",
    "print(\"Shape of Array:\",arr.shape)"
   ]
  },
  {
   "cell_type": "markdown",
   "id": "136170bc",
   "metadata": {},
   "source": [
    "## Dtype and ndim Function"
   ]
  },
  {
   "cell_type": "code",
   "execution_count": 58,
   "id": "e35caef9",
   "metadata": {},
   "outputs": [
    {
     "name": "stdout",
     "output_type": "stream",
     "text": [
      "Array: [[ 5  7 11]\n",
      " [ 2  5 10]\n",
      " [ 9  5  8]\n",
      " [ 9 22 11]]\n",
      "datatype: int32\n",
      "dimensions: 2\n"
     ]
    }
   ],
   "source": [
    "print('Array:',arr)\n",
    "print('datatype:',arr.dtype)\n",
    "print('dimensions:',arr.ndim)"
   ]
  },
  {
   "cell_type": "markdown",
   "id": "41c541d9",
   "metadata": {},
   "source": [
    "## Array Generation Functions"
   ]
  },
  {
   "cell_type": "code",
   "execution_count": 59,
   "id": "5492a119",
   "metadata": {},
   "outputs": [
    {
     "name": "stdout",
     "output_type": "stream",
     "text": [
      "[1 2 3 4 5] \n",
      "\n",
      "[[0. 0. 0.]\n",
      " [0. 0. 0.]\n",
      " [0. 0. 0.]\n",
      " [0. 0. 0.]] \n",
      "\n",
      "[[1 1 1 1 1]\n",
      " [1 1 1 1 1]\n",
      " [1 1 1 1 1]\n",
      " [1 1 1 1 1]\n",
      " [1 1 1 1 1]] \n",
      "\n",
      "[[1 0 0 0 0]\n",
      " [0 1 0 0 0]\n",
      " [0 0 1 0 0]\n",
      " [0 0 0 1 0]\n",
      " [0 0 0 0 1]]\n",
      "[[5.e-324 0.e+000 0.e+000 0.e+000 0.e+000]\n",
      " [0.e+000 5.e-324 0.e+000 0.e+000 0.e+000]\n",
      " [0.e+000 0.e+000 5.e-324 0.e+000 0.e+000]\n",
      " [0.e+000 0.e+000 0.e+000 5.e-324 0.e+000]\n",
      " [0.e+000 0.e+000 0.e+000 0.e+000 5.e-324]]\n"
     ]
    }
   ],
   "source": [
    "print(np.arange(1,6),'\\n')\n",
    "print(np.zeros(shape=(4,3),dtype='float64'),'\\n')\n",
    "print(np.ones(shape=(5,5),dtype='int32'),'\\n')\n",
    "print(np.eye(5,dtype='int64'))\n",
    "print(np.empty(shape = (5,5)))"
   ]
  },
  {
   "cell_type": "markdown",
   "id": "03ff99c9",
   "metadata": {},
   "source": [
    "## Random"
   ]
  },
  {
   "cell_type": "code",
   "execution_count": 60,
   "id": "2fa3b8ab",
   "metadata": {
    "scrolled": true
   },
   "outputs": [
    {
     "name": "stdout",
     "output_type": "stream",
     "text": [
      "[[0.61691572 0.57113563 0.70995671 0.32146471 0.41559921]\n",
      " [0.57109875 0.17900045 0.69925247 0.44983892 0.41243106]\n",
      " [0.96673022 0.05400698 0.7224422  0.62802548 0.40858984]\n",
      " [0.16459955 0.36382556 0.2570426  0.60734374 0.95602316]\n",
      " [0.88243414 0.6255084  0.67046611 0.89716085 0.68176674]]\n"
     ]
    }
   ],
   "source": [
    "print(np.random.rand(5,5))"
   ]
  },
  {
   "cell_type": "code",
   "execution_count": 61,
   "id": "bb698080",
   "metadata": {},
   "outputs": [
    {
     "name": "stdout",
     "output_type": "stream",
     "text": [
      "[17 19  3  7 19  1  2  6  6 14 15 16]\n"
     ]
    },
    {
     "data": {
      "text/plain": [
       "array([[2, 3],\n",
       "       [3, 3],\n",
       "       [3, 2]])"
      ]
     },
     "execution_count": 61,
     "metadata": {},
     "output_type": "execute_result"
    }
   ],
   "source": [
    "print(np.random.randint(low=1,high=20,size=12))\n",
    "arr = np.random.randint(low=1,high=4,size=6)\n",
    "arr.reshape(3,2)"
   ]
  },
  {
   "cell_type": "code",
   "execution_count": 62,
   "id": "6a3f1de0",
   "metadata": {},
   "outputs": [
    {
     "name": "stdout",
     "output_type": "stream",
     "text": [
      "[[44 35 24 32 35]\n",
      " [18 44 31 40 17]\n",
      " [30 40 24 33 26]]\n"
     ]
    }
   ],
   "source": [
    "print(np.random.randint(low=11,high=51,size=(3,5)))"
   ]
  },
  {
   "cell_type": "markdown",
   "id": "dbb95fda",
   "metadata": {},
   "source": [
    "## Linshape"
   ]
  },
  {
   "cell_type": "markdown",
   "id": "e5ab8191",
   "metadata": {},
   "source": [
    "The numpy.linspace() function returns number spaces evenly w.r.t interval. Similar to numpy.arange() function but instead of step it uses sample number.\n",
    "np.linspace(start,stop,restep,number_of_elements,dtype)"
   ]
  },
  {
   "cell_type": "code",
   "execution_count": 63,
   "id": "f2964a45",
   "metadata": {},
   "outputs": [
    {
     "data": {
      "text/plain": [
       "array([ 1.  ,  5.25,  9.5 , 13.75, 18.  ])"
      ]
     },
     "execution_count": 63,
     "metadata": {},
     "output_type": "execute_result"
    }
   ],
   "source": [
    "np.linspace(1,18,5)"
   ]
  },
  {
   "cell_type": "markdown",
   "id": "cba2a7f0",
   "metadata": {},
   "source": [
    "## Flatten"
   ]
  },
  {
   "cell_type": "code",
   "execution_count": 64,
   "id": "e378db66",
   "metadata": {},
   "outputs": [
    {
     "name": "stdout",
     "output_type": "stream",
     "text": [
      "[[1 8 4 1 7]\n",
      " [2 6 3 5 5]\n",
      " [1 8 1 4 1]\n",
      " [3 7 6 7 5]\n",
      " [7 1 4 1 1]]\n",
      "[1 8 4 1 7 2 6 3 5 5 1 8 1 4 1 3 7 6 7 5 7 1 4 1 1]\n"
     ]
    }
   ],
   "source": [
    "arr = np.random.randint(1,9,(5,5))\n",
    "print(arr)\n",
    "print(arr.flatten())"
   ]
  },
  {
   "cell_type": "markdown",
   "id": "9ee7e099",
   "metadata": {},
   "source": [
    "## Logspace"
   ]
  },
  {
   "cell_type": "code",
   "execution_count": 65,
   "id": "63b107c2",
   "metadata": {},
   "outputs": [
    {
     "name": "stdout",
     "output_type": "stream",
     "text": [
      "[  100.           251.18864315   630.95734448  1584.89319246\n",
      "  3981.07170553 10000.        ]\n"
     ]
    }
   ],
   "source": [
    "print(np.logspace(2,4,6,base=10))"
   ]
  },
  {
   "cell_type": "markdown",
   "id": "23343fb3",
   "metadata": {},
   "source": [
    "## Copy Function\n",
    "when we do a = b , both have the same id. But when we use copy function , both have different i.d so that if we change one , the other wont be affected"
   ]
  },
  {
   "cell_type": "code",
   "execution_count": 66,
   "id": "41aacc56",
   "metadata": {},
   "outputs": [
    {
     "name": "stdout",
     "output_type": "stream",
     "text": [
      "[ 4  9 13  2  6 12  3  9  4  4] 1774963445808\n",
      "[ 4  9 13  2  6 12  3  9  4  4] 1774963445808\n",
      "--------------------------------------------------\n",
      "[ 6  3  7 10  3 12  2 13 13  5] 1774963446288\n",
      "[ 6  3  7 10  3 12  2 13 13  5] 1774974897104\n"
     ]
    }
   ],
   "source": [
    "arr1 = np.random.randint(1,15,10)\n",
    "\n",
    "arr2 = arr1\n",
    "\n",
    "print(arr1, id(arr1))\n",
    "print(arr2, id(arr2))\n",
    "\n",
    "print('-'*50)\n",
    "\n",
    "arr1 = np.random.randint(1,15,10)\n",
    "arr2 = np.copy(arr1)\n",
    "\n",
    "print(arr1, id(arr1))\n",
    "print(arr2, id(arr2))"
   ]
  },
  {
   "cell_type": "markdown",
   "id": "1ffdd471",
   "metadata": {},
   "source": [
    "## Array Functions"
   ]
  },
  {
   "cell_type": "code",
   "execution_count": 67,
   "id": "bf322a87",
   "metadata": {},
   "outputs": [
    {
     "data": {
      "text/plain": [
       "array([[19,  1, 16],\n",
       "       [12,  9, 20],\n",
       "       [ 2, 19,  3],\n",
       "       [12,  2,  6]])"
      ]
     },
     "execution_count": 67,
     "metadata": {},
     "output_type": "execute_result"
    }
   ],
   "source": [
    "arr = np.random.randint(1,25,(4,3))\n",
    "arr"
   ]
  },
  {
   "cell_type": "code",
   "execution_count": 68,
   "id": "7528c5be",
   "metadata": {},
   "outputs": [
    {
     "name": "stdout",
     "output_type": "stream",
     "text": [
      "Max in array: 20\n",
      "Min in array 1\n",
      "Sum of all numbers in array 121\n"
     ]
    }
   ],
   "source": [
    "print('Max in array:',arr.max())\n",
    "print('Min in array' ,arr.min())\n",
    "print('Sum of all numbers in array' , arr.sum())"
   ]
  },
  {
   "cell_type": "code",
   "execution_count": 69,
   "id": "30a5ca02",
   "metadata": {},
   "outputs": [
    {
     "name": "stdout",
     "output_type": "stream",
     "text": [
      "Col-wise\n",
      "Max in array: [19 20 19 12]\n",
      "Min in array [1 9 2 2]\n",
      "Sum of all numbers in array [36 41 24 20]\n"
     ]
    }
   ],
   "source": [
    "print('Col-wise')\n",
    "print('Max in array:',arr.max(axis=1))\n",
    "print('Min in array' ,arr.min(axis=1))\n",
    "print('Sum of all numbers in array' , arr.sum(axis=1))"
   ]
  },
  {
   "cell_type": "code",
   "execution_count": 70,
   "id": "6b36da70",
   "metadata": {},
   "outputs": [
    {
     "name": "stdout",
     "output_type": "stream",
     "text": [
      "Row-wise\n",
      "Max in array: [19 19 20]\n",
      "Min in array [2 1 3]\n",
      "Sum of all numbers in array [45 31 45]\n"
     ]
    }
   ],
   "source": [
    "print('Row-wise')\n",
    "print('Max in array:',arr.max(axis=0))\n",
    "print('Min in array' ,arr.min(axis=0))\n",
    "print('Sum of all numbers in array' , arr.sum(axis=0))"
   ]
  },
  {
   "cell_type": "markdown",
   "id": "5fd983f0",
   "metadata": {},
   "source": [
    "## Seed Function:\n",
    "random() function is used to generate random numbers in Python. Not actually random, rather this is used to generate pseudo-random numbers. That implies that these randomly generated numbers can be determined. random() function generates numbers for some values. This value is also called seed value."
   ]
  },
  {
   "cell_type": "code",
   "execution_count": 71,
   "id": "2b2cf99d",
   "metadata": {},
   "outputs": [
    {
     "name": "stdout",
     "output_type": "stream",
     "text": [
      "[[9 4 5]\n",
      " [4 5 7]\n",
      " [3 7 5]\n",
      " [5 2 8]]\n",
      "----------------------------------------------------\n"
     ]
    }
   ],
   "source": [
    "arr = np.random.randint(1,10,(4,3))\n",
    "print(arr)\n",
    "print('-'*52)\n"
   ]
  },
  {
   "cell_type": "code",
   "execution_count": 72,
   "id": "8917c0dd",
   "metadata": {},
   "outputs": [
    {
     "name": "stdout",
     "output_type": "stream",
     "text": [
      "[[9 4 9]\n",
      " [9 1 6]\n",
      " [4 6 8]\n",
      " [7 1 5]]\n"
     ]
    }
   ],
   "source": [
    "np.random.seed(3)\n",
    "arr2 = np.random.randint(1,10,(4,3))\n",
    "print(arr2)"
   ]
  },
  {
   "cell_type": "markdown",
   "id": "867c9d0b",
   "metadata": {},
   "source": [
    "## Sorting Function"
   ]
  },
  {
   "cell_type": "code",
   "execution_count": 73,
   "id": "79353af6",
   "metadata": {},
   "outputs": [
    {
     "name": "stdout",
     "output_type": "stream",
     "text": [
      "[[8 9 2 7]\n",
      " [3 3 2 4]\n",
      " [6 9 2 9]\n",
      " [8 9 2 1]]\n",
      "**************************************************\n",
      "Row-wise:\n",
      " [[2 7 8 9]\n",
      " [2 3 3 4]\n",
      " [2 6 9 9]\n",
      " [1 2 8 9]]\n",
      "---------------\n",
      "Col-wise:\n",
      " [[3 3 2 1]\n",
      " [6 9 2 4]\n",
      " [8 9 2 7]\n",
      " [8 9 2 9]]\n",
      "---------------\n"
     ]
    }
   ],
   "source": [
    "arr = np.random.randint(1,10,(4,4))\n",
    "print(arr)\n",
    "print('*'*50)\n",
    "print('Row-wise:\\n',np.sort(arr, axis = 1))\n",
    "print('-'*15)\n",
    "print('Col-wise:\\n',np.sort(arr, axis = 0,kind='mergesort'))\n",
    "print('-'*15)\n"
   ]
  },
  {
   "cell_type": "code",
   "execution_count": 74,
   "id": "30997a70",
   "metadata": {},
   "outputs": [
    {
     "name": "stdout",
     "output_type": "stream",
     "text": [
      "[[6 5 2 6]\n",
      " [5 8 7 1]\n",
      " [1 3 5 6]\n",
      " [9 9 8 6]]\n",
      "[[1 1 2 3]\n",
      " [5 5 5 6]\n",
      " [6 6 6 7]\n",
      " [8 8 9 9]]\n"
     ]
    }
   ],
   "source": [
    "arr = np.random.randint(1,10,(4,4))\n",
    "print(arr)\n",
    "arr = np.reshape(np.sort(arr.flatten()),arr.shape)\n",
    "print(arr)"
   ]
  },
  {
   "cell_type": "markdown",
   "id": "4388bede",
   "metadata": {},
   "source": [
    "# Mathematical Operators "
   ]
  },
  {
   "cell_type": "code",
   "execution_count": 75,
   "id": "2e1d8335",
   "metadata": {},
   "outputs": [
    {
     "name": "stdout",
     "output_type": "stream",
     "text": [
      "[[2 2 2]\n",
      " [6 6 8]\n",
      " [5 4 1]\n",
      " [1 1 1]]\n"
     ]
    }
   ],
   "source": [
    "arr = np.random.randint(1,10,(4,3))\n",
    "print(arr)"
   ]
  },
  {
   "cell_type": "markdown",
   "id": "9f43d7ef",
   "metadata": {},
   "source": [
    "### a.Addition"
   ]
  },
  {
   "cell_type": "code",
   "execution_count": 76,
   "id": "63178e5e",
   "metadata": {},
   "outputs": [
    {
     "name": "stdout",
     "output_type": "stream",
     "text": [
      "[[3 3 3]\n",
      " [7 7 9]\n",
      " [6 5 2]\n",
      " [2 2 2]]\n",
      "--------------------\n",
      "[[ 5  5 10]\n",
      " [ 7 12  9]\n",
      " [ 7  9  3]\n",
      " [ 4  4  6]]\n"
     ]
    }
   ],
   "source": [
    "# Addition\n",
    "print(arr + 1)\n",
    "print('-'*20)\n",
    "#----------------\n",
    "print(arr + np.random.randint(1,10,(4,3)))"
   ]
  },
  {
   "cell_type": "markdown",
   "id": "3390b801",
   "metadata": {},
   "source": [
    "### b.Subtraction"
   ]
  },
  {
   "cell_type": "code",
   "execution_count": 77,
   "id": "3b8f966a",
   "metadata": {},
   "outputs": [
    {
     "name": "stdout",
     "output_type": "stream",
     "text": [
      "[[1 1 1]\n",
      " [5 5 7]\n",
      " [4 3 0]\n",
      " [0 0 0]]\n",
      "--------------------\n",
      "[[-7  1 -5]\n",
      " [ 5  1  6]\n",
      " [-1  2 -8]\n",
      " [-8 -7  0]]\n"
     ]
    }
   ],
   "source": [
    "print(arr - 1)\n",
    "print('-'*20)\n",
    "#----------------\n",
    "print(arr - np.random.randint(1,10,(4,3)))"
   ]
  },
  {
   "cell_type": "markdown",
   "id": "773b8082",
   "metadata": {},
   "source": [
    "### c. Multiplication"
   ]
  },
  {
   "cell_type": "code",
   "execution_count": 78,
   "id": "d4daf4e4",
   "metadata": {},
   "outputs": [
    {
     "name": "stdout",
     "output_type": "stream",
     "text": [
      "[[ 6  6  6]\n",
      " [18 18 24]\n",
      " [15 12  3]\n",
      " [ 3  3  3]]\n",
      "[[ 2  4 16]\n",
      " [54 48 40]\n",
      " [ 5  4  5]\n",
      " [ 4  1  9]]\n"
     ]
    }
   ],
   "source": [
    "print(arr * 3)\n",
    "arr2 = np.random.randint(1,10,(4,3))\n",
    "print(arr*arr2) # in this , we multiply individual elements of matrix"
   ]
  },
  {
   "cell_type": "markdown",
   "id": "a3a15f1e",
   "metadata": {},
   "source": [
    "### d. Matrix Multiplication"
   ]
  },
  {
   "cell_type": "code",
   "execution_count": 79,
   "id": "8b0c99fe",
   "metadata": {},
   "outputs": [
    {
     "name": "stdout",
     "output_type": "stream",
     "text": [
      "[[ 4 16]\n",
      " [10 36]]\n",
      "[[ 4 16]\n",
      " [10 36]]\n"
     ]
    }
   ],
   "source": [
    "a = np.array([[1,2],[3,4]])\n",
    "b = np.array([[2,4],[1,6]])\n",
    "print(a.dot(b))\n",
    "print(a@b)"
   ]
  },
  {
   "cell_type": "markdown",
   "id": "1f20fe6b",
   "metadata": {},
   "source": [
    "### e. Division"
   ]
  },
  {
   "cell_type": "code",
   "execution_count": 80,
   "id": "a1ba459e",
   "metadata": {},
   "outputs": [
    {
     "name": "stdout",
     "output_type": "stream",
     "text": [
      "[[1.  1.  1. ]\n",
      " [3.  3.  4. ]\n",
      " [2.5 2.  0.5]\n",
      " [0.5 0.5 0.5]]\n"
     ]
    }
   ],
   "source": [
    "print(arr / 2)"
   ]
  },
  {
   "cell_type": "markdown",
   "id": "54e370be",
   "metadata": {},
   "source": [
    "###  f. Power"
   ]
  },
  {
   "cell_type": "code",
   "execution_count": 81,
   "id": "48799ef6",
   "metadata": {},
   "outputs": [
    {
     "name": "stdout",
     "output_type": "stream",
     "text": [
      "[[ 4  4  4]\n",
      " [36 36 64]\n",
      " [25 16  1]\n",
      " [ 1  1  1]]\n",
      "[[1 1 1]\n",
      " [1 1 1]\n",
      " [1 1 1]\n",
      " [1 1 1]]\n"
     ]
    }
   ],
   "source": [
    "print(arr ** 2)\n",
    "print(arr ** 0)"
   ]
  },
  {
   "cell_type": "markdown",
   "id": "d6944000",
   "metadata": {},
   "source": [
    "# Statistical Functions"
   ]
  },
  {
   "cell_type": "code",
   "execution_count": 82,
   "id": "02b84a3e",
   "metadata": {},
   "outputs": [
    {
     "name": "stdout",
     "output_type": "stream",
     "text": [
      "[3 8 3 2 4 3 5 2 3 3 8 4 5 2 7 8 2 1 1 6]\n"
     ]
    }
   ],
   "source": [
    "arr = np.random.randint(1,10,20)\n",
    "print(arr)"
   ]
  },
  {
   "cell_type": "markdown",
   "id": "36b8db2c",
   "metadata": {},
   "source": [
    "### a)Percentile Function"
   ]
  },
  {
   "cell_type": "code",
   "execution_count": 83,
   "id": "8f4ab155",
   "metadata": {},
   "outputs": [
    {
     "name": "stdout",
     "output_type": "stream",
     "text": [
      "5.25\n"
     ]
    }
   ],
   "source": [
    "print(np.percentile(arr,75))"
   ]
  },
  {
   "cell_type": "markdown",
   "id": "89480319",
   "metadata": {},
   "source": [
    "### b) Mean"
   ]
  },
  {
   "cell_type": "code",
   "execution_count": 84,
   "id": "1f7dba6a",
   "metadata": {},
   "outputs": [
    {
     "name": "stdout",
     "output_type": "stream",
     "text": [
      "4.0\n"
     ]
    }
   ],
   "source": [
    "print(arr.mean())"
   ]
  },
  {
   "cell_type": "markdown",
   "id": "a5bb6e3f",
   "metadata": {},
   "source": [
    "### c) Standard Deviation and Variance"
   ]
  },
  {
   "cell_type": "code",
   "execution_count": 85,
   "id": "4b376b34",
   "metadata": {},
   "outputs": [
    {
     "name": "stdout",
     "output_type": "stream",
     "text": [
      "5.1\n",
      "2.258317958127243\n",
      "5.099999999999999\n"
     ]
    }
   ],
   "source": [
    "print(arr.var())\n",
    "print(arr.std())\n",
    "print(arr.std() ** 2)"
   ]
  },
  {
   "cell_type": "markdown",
   "id": "86cefd03",
   "metadata": {},
   "source": [
    "## Filtering Array"
   ]
  },
  {
   "cell_type": "code",
   "execution_count": 86,
   "id": "1347b137",
   "metadata": {},
   "outputs": [
    {
     "name": "stdout",
     "output_type": "stream",
     "text": [
      "[11  8  4  8  8 14 12  3  4  9 10  2 12  5  4  7  9 10  1  9]\n",
      "[4 3 4 2 5 4 1]\n"
     ]
    }
   ],
   "source": [
    "arr = np.random.randint(0,15,20)\n",
    "print(arr)\n",
    "print(arr[arr<7])"
   ]
  },
  {
   "cell_type": "markdown",
   "id": "f40d9533",
   "metadata": {},
   "source": [
    "## Transpose of Array"
   ]
  },
  {
   "cell_type": "code",
   "execution_count": 87,
   "id": "779e7155",
   "metadata": {},
   "outputs": [
    {
     "name": "stdout",
     "output_type": "stream",
     "text": [
      "[[ 1 14 13  8  5]\n",
      " [11  9 13 18  1]\n",
      " [ 8  1  2 16 12]]\n",
      "--------------------\n",
      "[[ 1 11  8]\n",
      " [14  9  1]\n",
      " [13 13  2]\n",
      " [ 8 18 16]\n",
      " [ 5  1 12]]\n"
     ]
    }
   ],
   "source": [
    "arr = np.random.randint(1,20,(3,5))\n",
    "\n",
    "print(arr)\n",
    "print('-'*20)\n",
    "print(arr.T)"
   ]
  },
  {
   "cell_type": "markdown",
   "id": "786f0e12",
   "metadata": {},
   "source": [
    "## Where function"
   ]
  },
  {
   "cell_type": "code",
   "execution_count": 88,
   "id": "6d06881c",
   "metadata": {},
   "outputs": [
    {
     "name": "stdout",
     "output_type": "stream",
     "text": [
      "[18 52 72 14 96 69 95 64 42 14]\n",
      "['Even' 'Even' 'Even' 'Even' 'Even' '69' '95' 'Even' 'Even' 'Even']\n"
     ]
    }
   ],
   "source": [
    "arr = np.random.randint(1,100,10)\n",
    "print(arr)\n",
    "print(np.where(arr%2 == 0,'Even',arr))"
   ]
  },
  {
   "cell_type": "markdown",
   "id": "5dc84321",
   "metadata": {},
   "source": [
    "## Merging Arrays"
   ]
  },
  {
   "cell_type": "code",
   "execution_count": 89,
   "id": "35d9fd0c",
   "metadata": {},
   "outputs": [
    {
     "name": "stdout",
     "output_type": "stream",
     "text": [
      "[[1 9 5 8]\n",
      " [9 6 7 8]]\n",
      "---------------\n",
      "[[4 6 2 9]\n",
      " [3 9 5 6]]\n",
      "------------------------------\n",
      "[[1 9 5 8]\n",
      " [9 6 7 8]\n",
      " [4 6 2 9]\n",
      " [3 9 5 6]]\n",
      "------------------------------\n",
      "[[1 9 5 8 4 6 2 9]\n",
      " [9 6 7 8 3 9 5 6]]\n"
     ]
    }
   ],
   "source": [
    "arr1 = np.random.randint(1,10,(2,4))\n",
    "arr2 = np.random.randint(1,10,(2,4))\n",
    "print(arr1)\n",
    "print('-'*15)\n",
    "print(arr2)\n",
    "\n",
    "print('-'*30)\n",
    "print(np.concatenate((arr1,arr2), axis = 0))\n",
    "print('-'*30)\n",
    "print(np.concatenate((arr1,arr2), axis = 1))"
   ]
  },
  {
   "cell_type": "code",
   "execution_count": 90,
   "id": "e56abbfd",
   "metadata": {},
   "outputs": [
    {
     "name": "stdout",
     "output_type": "stream",
     "text": [
      "[[1 9 5 8 4 6 2 9]\n",
      " [9 6 7 8 3 9 5 6]]\n",
      "--------------------\n",
      "[[1 9 5 8]\n",
      " [9 6 7 8]\n",
      " [4 6 2 9]\n",
      " [3 9 5 6]]\n"
     ]
    }
   ],
   "source": [
    "print(np.hstack((arr1,arr2)))\n",
    "print('-'*20)\n",
    "print(np.vstack((arr1,arr2)))"
   ]
  },
  {
   "cell_type": "markdown",
   "id": "6037a66e",
   "metadata": {},
   "source": [
    "## Splitting Arrays"
   ]
  },
  {
   "cell_type": "code",
   "execution_count": 91,
   "id": "ae99a56b",
   "metadata": {},
   "outputs": [
    {
     "name": "stdout",
     "output_type": "stream",
     "text": [
      "[[1 9 8 2]\n",
      " [3 6 3 8]\n",
      " [7 8 2 6]\n",
      " [8 6 8 3]]\n",
      "[array([[1, 9, 8, 2],\n",
      "       [3, 6, 3, 8]]), array([[7, 8, 2, 6],\n",
      "       [8, 6, 8, 3]])]\n",
      "--------------------\n",
      "[array([[1],\n",
      "       [3],\n",
      "       [7],\n",
      "       [8]]), array([[9],\n",
      "       [6],\n",
      "       [8],\n",
      "       [6]]), array([[8],\n",
      "       [3],\n",
      "       [2],\n",
      "       [8]]), array([[2],\n",
      "       [8],\n",
      "       [6],\n",
      "       [3]])]\n"
     ]
    }
   ],
   "source": [
    "arr = np.random.randint(1,10,(4,4))\n",
    "print(arr)\n",
    "print(np.vsplit(arr,2),sep = '\\n')\n",
    "print('-' * 20)\n",
    "print(np.hsplit(arr,4))"
   ]
  },
  {
   "cell_type": "code",
   "execution_count": null,
   "id": "ea721852",
   "metadata": {},
   "outputs": [],
   "source": []
  },
  {
   "cell_type": "code",
   "execution_count": null,
   "id": "a07ccb12",
   "metadata": {},
   "outputs": [],
   "source": []
  }
 ],
 "metadata": {
  "kernelspec": {
   "display_name": "Python 3 (ipykernel)",
   "language": "python",
   "name": "python3"
  },
  "language_info": {
   "codemirror_mode": {
    "name": "ipython",
    "version": 3
   },
   "file_extension": ".py",
   "mimetype": "text/x-python",
   "name": "python",
   "nbconvert_exporter": "python",
   "pygments_lexer": "ipython3",
   "version": "3.9.7"
  }
 },
 "nbformat": 4,
 "nbformat_minor": 5
}
