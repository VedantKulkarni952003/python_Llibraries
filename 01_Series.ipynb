{
 "cells": [
  {
   "cell_type": "code",
   "execution_count": 2,
   "id": "06eab341",
   "metadata": {},
   "outputs": [],
   "source": [
    "import pandas as pd\n",
    "import numpy as np"
   ]
  },
  {
   "cell_type": "markdown",
   "id": "a53bbbb2",
   "metadata": {},
   "source": [
    "# Pandas Series Initialization"
   ]
  },
  {
   "cell_type": "code",
   "execution_count": 7,
   "id": "a0cb0009",
   "metadata": {},
   "outputs": [
    {
     "data": {
      "text/plain": [
       "0    1\n",
       "1    3\n",
       "2    4\n",
       "3    5\n",
       "4    9\n",
       "dtype: int64"
      ]
     },
     "execution_count": 7,
     "metadata": {},
     "output_type": "execute_result"
    }
   ],
   "source": [
    "\n",
    "list=[1,3,4,5,9]\n",
    "ser=pd.Series(list)\n",
    "ser\n"
   ]
  },
  {
   "cell_type": "code",
   "execution_count": 8,
   "id": "3db665ec",
   "metadata": {},
   "outputs": [
    {
     "data": {
      "text/plain": [
       "0     1\n",
       "1     4\n",
       "2     9\n",
       "3    16\n",
       "4    25\n",
       "dtype: int32"
      ]
     },
     "execution_count": 8,
     "metadata": {},
     "output_type": "execute_result"
    }
   ],
   "source": [
    "list = np.array([1,4,9,16,25])\n",
    "ser=pd.Series(list)\n",
    "ser"
   ]
  },
  {
   "cell_type": "code",
   "execution_count": 5,
   "id": "a51aeaaa",
   "metadata": {},
   "outputs": [
    {
     "data": {
      "text/plain": [
       "'data1'"
      ]
     },
     "metadata": {},
     "output_type": "display_data"
    }
   ],
   "source": [
    "s=pd.Series(data=[\"data1\",\"data2\",\"data3\",\"data4\"],index=[\"index1\",\"index2\",\"index3\",\"index4\"])\n",
    "display(s['index1'])"
   ]
  },
  {
   "cell_type": "code",
   "execution_count": 11,
   "id": "36985b0f",
   "metadata": {},
   "outputs": [
    {
     "data": {
      "text/plain": [
       "1    A\n",
       "2    B\n",
       "3    C\n",
       "5    E\n",
       "dtype: object"
      ]
     },
     "execution_count": 11,
     "metadata": {},
     "output_type": "execute_result"
    }
   ],
   "source": [
    "dic = {1:'A',2:'B',3:'C',5:'E'}\n",
    "pd.Series(dic)"
   ]
  },
  {
   "cell_type": "markdown",
   "id": "d8603372",
   "metadata": {},
   "source": [
    "# Pandas Series Repeat"
   ]
  },
  {
   "cell_type": "code",
   "execution_count": 16,
   "id": "e0001867",
   "metadata": {},
   "outputs": [
    {
     "data": {
      "text/plain": [
       "0    5\n",
       "0    5\n",
       "0    5\n",
       "0    5\n",
       "0    5\n",
       "0    5\n",
       "dtype: int64"
      ]
     },
     "execution_count": 16,
     "metadata": {},
     "output_type": "execute_result"
    }
   ],
   "source": [
    "pd.Series(5).repeat(6)"
   ]
  },
  {
   "cell_type": "code",
   "execution_count": 17,
   "id": "4377b7de",
   "metadata": {},
   "outputs": [
    {
     "data": {
      "text/html": [
       "<div>\n",
       "<style scoped>\n",
       "    .dataframe tbody tr th:only-of-type {\n",
       "        vertical-align: middle;\n",
       "    }\n",
       "\n",
       "    .dataframe tbody tr th {\n",
       "        vertical-align: top;\n",
       "    }\n",
       "\n",
       "    .dataframe thead th {\n",
       "        text-align: right;\n",
       "    }\n",
       "</style>\n",
       "<table border=\"1\" class=\"dataframe\">\n",
       "  <thead>\n",
       "    <tr style=\"text-align: right;\">\n",
       "      <th></th>\n",
       "      <th>index</th>\n",
       "      <th>0</th>\n",
       "    </tr>\n",
       "  </thead>\n",
       "  <tbody>\n",
       "    <tr>\n",
       "      <th>0</th>\n",
       "      <td>0</td>\n",
       "      <td>5</td>\n",
       "    </tr>\n",
       "    <tr>\n",
       "      <th>1</th>\n",
       "      <td>0</td>\n",
       "      <td>5</td>\n",
       "    </tr>\n",
       "    <tr>\n",
       "      <th>2</th>\n",
       "      <td>0</td>\n",
       "      <td>5</td>\n",
       "    </tr>\n",
       "    <tr>\n",
       "      <th>3</th>\n",
       "      <td>0</td>\n",
       "      <td>5</td>\n",
       "    </tr>\n",
       "    <tr>\n",
       "      <th>4</th>\n",
       "      <td>0</td>\n",
       "      <td>5</td>\n",
       "    </tr>\n",
       "    <tr>\n",
       "      <th>5</th>\n",
       "      <td>0</td>\n",
       "      <td>5</td>\n",
       "    </tr>\n",
       "  </tbody>\n",
       "</table>\n",
       "</div>"
      ],
      "text/plain": [
       "   index  0\n",
       "0      0  5\n",
       "1      0  5\n",
       "2      0  5\n",
       "3      0  5\n",
       "4      0  5\n",
       "5      0  5"
      ]
     },
     "execution_count": 17,
     "metadata": {},
     "output_type": "execute_result"
    }
   ],
   "source": [
    "pd.Series(5).repeat(6).reset_index()"
   ]
  },
  {
   "cell_type": "code",
   "execution_count": 18,
   "id": "e89f9ae0",
   "metadata": {},
   "outputs": [
    {
     "data": {
      "text/plain": [
       "0    5\n",
       "1    5\n",
       "2    5\n",
       "3    5\n",
       "4    5\n",
       "5    5\n",
       "dtype: int64"
      ]
     },
     "execution_count": 18,
     "metadata": {},
     "output_type": "execute_result"
    }
   ],
   "source": [
    "pd.Series(5).repeat(6).reset_index(drop = True)"
   ]
  },
  {
   "cell_type": "markdown",
   "id": "c25fdde7",
   "metadata": {},
   "source": [
    "# Pandas Element Accessing"
   ]
  },
  {
   "cell_type": "code",
   "execution_count": 19,
   "id": "3b682d41",
   "metadata": {},
   "outputs": [
    {
     "name": "stdout",
     "output_type": "stream",
     "text": [
      "1 4\n"
     ]
    }
   ],
   "source": [
    "list=[1,3,4,5,9]\n",
    "ser=pd.Series(list)\n",
    "print(ser[0],ser[2])"
   ]
  },
  {
   "cell_type": "code",
   "execution_count": 21,
   "id": "47d473e4",
   "metadata": {},
   "outputs": [
    {
     "name": "stdout",
     "output_type": "stream",
     "text": [
      "9\n"
     ]
    }
   ],
   "source": [
    "print(ser[4])"
   ]
  },
  {
   "cell_type": "code",
   "execution_count": 26,
   "id": "af8505fd",
   "metadata": {},
   "outputs": [
    {
     "data": {
      "text/plain": [
       "0    1\n",
       "1    3\n",
       "2    4\n",
       "3    5\n",
       "dtype: int64"
      ]
     },
     "execution_count": 26,
     "metadata": {},
     "output_type": "execute_result"
    }
   ],
   "source": [
    "ser[:4]"
   ]
  },
  {
   "cell_type": "code",
   "execution_count": 24,
   "id": "de908109",
   "metadata": {},
   "outputs": [
    {
     "data": {
      "text/plain": [
       "0    1\n",
       "2    4\n",
       "4    9\n",
       "dtype: int64"
      ]
     },
     "execution_count": 24,
     "metadata": {},
     "output_type": "execute_result"
    }
   ],
   "source": [
    "ser[0:5:2]"
   ]
  },
  {
   "cell_type": "markdown",
   "id": "1fa15ef1",
   "metadata": {},
   "source": [
    "# Functions:"
   ]
  },
  {
   "cell_type": "code",
   "execution_count": 35,
   "id": "8481f869",
   "metadata": {},
   "outputs": [
    {
     "name": "stdout",
     "output_type": "stream",
     "text": [
      "min    -8\n",
      "sum    29\n",
      "max     9\n",
      "dtype: int64\n",
      "median     4.500000\n",
      "mean       2.900000\n",
      "std        5.300943\n",
      "count     10.000000\n",
      "dtype: float64\n"
     ]
    }
   ],
   "source": [
    "#Aggregate Functions:\n",
    "list=[1,3,-4,5,9,-8,5,6,8,4]\n",
    "ser=pd.Series(list)\n",
    "print(ser.agg([min,sum,max]))\n",
    "print(ser.agg(['median','mean','std','count']))"
   ]
  },
  {
   "cell_type": "code",
   "execution_count": 37,
   "id": "bc5b8981",
   "metadata": {},
   "outputs": [
    {
     "data": {
      "text/plain": [
       "(0    1\n",
       " 1    3\n",
       " 2   -4\n",
       " 3    5\n",
       " 4    9\n",
       " 5   -8\n",
       " 6    5\n",
       " 7    6\n",
       " 8    8\n",
       " 9    4\n",
       " dtype: int64,\n",
       " 0    1\n",
       " 1    3\n",
       " 2    4\n",
       " 3    5\n",
       " 4    9\n",
       " 5    8\n",
       " 6    5\n",
       " 7    6\n",
       " 8    8\n",
       " 9    4\n",
       " dtype: int64)"
      ]
     },
     "execution_count": 37,
     "metadata": {},
     "output_type": "execute_result"
    }
   ],
   "source": [
    "#Absolute Functions: -> Converts all data into +ve\n",
    "ser,ser.abs()"
   ]
  },
  {
   "cell_type": "code",
   "execution_count": null,
   "id": "7b93fa20",
   "metadata": {},
   "outputs": [],
   "source": [
    "## Append Series"
   ]
  },
  {
   "cell_type": "code",
   "execution_count": 39,
   "id": "b37b361f",
   "metadata": {},
   "outputs": [
    {
     "data": {
      "text/plain": [
       "0     1\n",
       "1     2\n",
       "2     3\n",
       "3     4\n",
       "4     5\n",
       "0     8\n",
       "1    10\n",
       "dtype: int64"
      ]
     },
     "execution_count": 39,
     "metadata": {},
     "output_type": "execute_result"
    }
   ],
   "source": [
    "ser1 = pd.Series([1,2,3,4,5])\n",
    "ser2 = pd.Series([8,10])\n",
    "ser3= ser1.append(ser2)\n",
    "ser3"
   ]
  },
  {
   "cell_type": "code",
   "execution_count": 40,
   "id": "cfcfa1b0",
   "metadata": {},
   "outputs": [
    {
     "data": {
      "text/plain": [
       "0     1\n",
       "1     2\n",
       "2     3\n",
       "3     4\n",
       "4     5\n",
       "5     8\n",
       "6    10\n",
       "dtype: int64"
      ]
     },
     "execution_count": 40,
     "metadata": {},
     "output_type": "execute_result"
    }
   ],
   "source": [
    "ser3.reset_index(drop=True)"
   ]
  },
  {
   "cell_type": "code",
   "execution_count": null,
   "id": "aa35e168",
   "metadata": {},
   "outputs": [],
   "source": [
    "# Astype Function\n"
   ]
  },
  {
   "cell_type": "code",
   "execution_count": 41,
   "id": "54ca96b5",
   "metadata": {},
   "outputs": [
    {
     "data": {
      "text/plain": [
       "0     1\n",
       "1     3\n",
       "2     6\n",
       "3     8\n",
       "4    10\n",
       "dtype: int64"
      ]
     },
     "execution_count": 41,
     "metadata": {},
     "output_type": "execute_result"
    }
   ],
   "source": [
    "ser = pd.Series([1,3,6,8,10])\n",
    "ser"
   ]
  },
  {
   "cell_type": "code",
   "execution_count": 42,
   "id": "3c89db13",
   "metadata": {},
   "outputs": [
    {
     "data": {
      "text/plain": [
       "0     1.0\n",
       "1     3.0\n",
       "2     6.0\n",
       "3     8.0\n",
       "4    10.0\n",
       "dtype: float64"
      ]
     },
     "execution_count": 42,
     "metadata": {},
     "output_type": "execute_result"
    }
   ],
   "source": [
    "ser.astype('float')"
   ]
  },
  {
   "cell_type": "code",
   "execution_count": 43,
   "id": "0ff67847",
   "metadata": {},
   "outputs": [
    {
     "data": {
      "text/plain": [
       "0     1\n",
       "1     3\n",
       "2     6\n",
       "3     8\n",
       "4    10\n",
       "dtype: string"
      ]
     },
     "execution_count": 43,
     "metadata": {},
     "output_type": "execute_result"
    }
   ],
   "source": [
    "ser.astype('string')"
   ]
  },
  {
   "cell_type": "code",
   "execution_count": 46,
   "id": "473d601d",
   "metadata": {},
   "outputs": [
    {
     "data": {
      "text/plain": [
       "0    False\n",
       "1    False\n",
       "2    False\n",
       "3     True\n",
       "4     True\n",
       "5     True\n",
       "6     True\n",
       "7    False\n",
       "8    False\n",
       "9    False\n",
       "dtype: bool"
      ]
     },
     "execution_count": 46,
     "metadata": {},
     "output_type": "execute_result"
    }
   ],
   "source": [
    "#Between Function\n",
    "ser = pd.Series([1,3,5,6,8,10,13,19,22,29])\n",
    "ser.between(6,15)"
   ]
  },
  {
   "cell_type": "markdown",
   "id": "b99e8266",
   "metadata": {},
   "source": [
    "## String Function"
   ]
  },
  {
   "cell_type": "code",
   "execution_count": 56,
   "id": "4c8917c1",
   "metadata": {},
   "outputs": [],
   "source": [
    "ser = pd.Series([\"  Vedant\",\"Vinayak  \",\" Kulkarni \",\"22110452\"])"
   ]
  },
  {
   "cell_type": "code",
   "execution_count": 57,
   "id": "9651001f",
   "metadata": {},
   "outputs": [
    {
     "name": "stdout",
     "output_type": "stream",
     "text": [
      "0        vedant\n",
      "1     vinayak  \n",
      "2     kulkarni \n",
      "3      22110452\n",
      "dtype: object\n",
      "0        VEDANT\n",
      "1     VINAYAK  \n",
      "2     KULKARNI \n",
      "3      22110452\n",
      "dtype: object\n"
     ]
    }
   ],
   "source": [
    "print(ser.str.lower())\n",
    "print(ser.str.upper())"
   ]
  },
  {
   "cell_type": "code",
   "execution_count": 60,
   "id": "12448ae5",
   "metadata": {},
   "outputs": [
    {
     "name": "stdout",
     "output_type": "stream",
     "text": [
      "0      Vedant\n",
      "1     Vinayak\n",
      "2    Kulkarni\n",
      "3    22110452\n",
      "dtype: object\n",
      "8\n",
      "6\n"
     ]
    }
   ],
   "source": [
    "print(ser.str.strip())\n",
    "print(len(ser[0]))\n",
    "print(len(ser.str.strip()[0]))"
   ]
  },
  {
   "cell_type": "code",
   "execution_count": 62,
   "id": "14563c00",
   "metadata": {},
   "outputs": [
    {
     "data": {
      "text/plain": [
       "0           [fsd, drf]\n",
       "1    [adsd, fgjyjkuku]\n",
       "dtype: object"
      ]
     },
     "execution_count": 62,
     "metadata": {},
     "output_type": "execute_result"
    }
   ],
   "source": [
    "ser=pd.Series([\"fsd drf\",\"adsd fgjyjkuku\"])\n",
    "ser.str.split()"
   ]
  },
  {
   "cell_type": "code",
   "execution_count": 63,
   "id": "6ffd9600",
   "metadata": {},
   "outputs": [
    {
     "data": {
      "text/plain": [
       "0     True\n",
       "1    False\n",
       "2    False\n",
       "3    False\n",
       "dtype: bool"
      ]
     },
     "execution_count": 63,
     "metadata": {},
     "output_type": "execute_result"
    }
   ],
   "source": [
    "ser = pd.Series([\"  Vedant\",\"Vinayak  \",\" Kulkarni \",\"22110452\"])\n",
    "ser.str.contains('ant')"
   ]
  },
  {
   "cell_type": "code",
   "execution_count": 64,
   "id": "d49b7480",
   "metadata": {},
   "outputs": [
    {
     "data": {
      "text/plain": [
       "0      __Vedant\n",
       "1     Vinayak__\n",
       "2    _Kulkarni_\n",
       "3      22110452\n",
       "dtype: object"
      ]
     },
     "execution_count": 64,
     "metadata": {},
     "output_type": "execute_result"
    }
   ],
   "source": [
    "ser.str.replace(' ','_')"
   ]
  },
  {
   "cell_type": "code",
   "execution_count": 65,
   "id": "570c6954",
   "metadata": {},
   "outputs": [
    {
     "data": {
      "text/plain": [
       "0    1\n",
       "1    2\n",
       "2    1\n",
       "3    0\n",
       "dtype: int64"
      ]
     },
     "execution_count": 65,
     "metadata": {},
     "output_type": "execute_result"
    }
   ],
   "source": [
    "ser.str.count('a')"
   ]
  },
  {
   "cell_type": "code",
   "execution_count": 66,
   "id": "ab8f6b4c",
   "metadata": {},
   "outputs": [
    {
     "data": {
      "text/plain": [
       "0    False\n",
       "1     True\n",
       "2    False\n",
       "3    False\n",
       "dtype: bool"
      ]
     },
     "execution_count": 66,
     "metadata": {},
     "output_type": "execute_result"
    }
   ],
   "source": [
    "ser.str.startswith('V')"
   ]
  },
  {
   "cell_type": "code",
   "execution_count": 67,
   "id": "1e4fc4ed",
   "metadata": {},
   "outputs": [
    {
     "data": {
      "text/plain": [
       "0    False\n",
       "1    False\n",
       "2    False\n",
       "3     True\n",
       "dtype: bool"
      ]
     },
     "execution_count": 67,
     "metadata": {},
     "output_type": "execute_result"
    }
   ],
   "source": [
    "ser.str.endswith('2')"
   ]
  },
  {
   "cell_type": "code",
   "execution_count": 68,
   "id": "11ccec12",
   "metadata": {},
   "outputs": [
    {
     "data": {
      "text/plain": [
       "0   -1\n",
       "1   -1\n",
       "2   -1\n",
       "3    5\n",
       "dtype: int64"
      ]
     },
     "execution_count": 68,
     "metadata": {},
     "output_type": "execute_result"
    }
   ],
   "source": [
    "ser.str.find('45')"
   ]
  },
  {
   "cell_type": "code",
   "execution_count": 69,
   "id": "ed3b9a94",
   "metadata": {},
   "outputs": [
    {
     "data": {
      "text/plain": [
       "['  Vedant', 'Vinayak  ', ' Kulkarni ', '22110452']"
      ]
     },
     "execution_count": 69,
     "metadata": {},
     "output_type": "execute_result"
    }
   ],
   "source": [
    "ser.to_list()"
   ]
  },
  {
   "cell_type": "code",
   "execution_count": 71,
   "id": "8372bd23",
   "metadata": {},
   "outputs": [
    {
     "ename": "TypeError",
     "evalue": "to_excel() missing 1 required positional argument: 'excel_writer'",
     "output_type": "error",
     "traceback": [
      "\u001b[1;31m---------------------------------------------------------------------------\u001b[0m",
      "\u001b[1;31mTypeError\u001b[0m                                 Traceback (most recent call last)",
      "\u001b[1;32m~\\AppData\\Local\\Temp/ipykernel_7060/938159764.py\u001b[0m in \u001b[0;36m<module>\u001b[1;34m\u001b[0m\n\u001b[1;32m----> 1\u001b[1;33m \u001b[0mx\u001b[0m \u001b[1;33m=\u001b[0m \u001b[0mser\u001b[0m\u001b[1;33m.\u001b[0m\u001b[0mto_excel\u001b[0m\u001b[1;33m(\u001b[0m\u001b[1;33m)\u001b[0m\u001b[1;33m\u001b[0m\u001b[1;33m\u001b[0m\u001b[0m\n\u001b[0m",
      "\u001b[1;31mTypeError\u001b[0m: to_excel() missing 1 required positional argument: 'excel_writer'"
     ]
    }
   ],
   "source": []
  },
  {
   "cell_type": "code",
   "execution_count": null,
   "id": "d83ab206",
   "metadata": {},
   "outputs": [],
   "source": []
  }
 ],
 "metadata": {
  "kernelspec": {
   "display_name": "Python 3 (ipykernel)",
   "language": "python",
   "name": "python3"
  },
  "language_info": {
   "codemirror_mode": {
    "name": "ipython",
    "version": 3
   },
   "file_extension": ".py",
   "mimetype": "text/x-python",
   "name": "python",
   "nbconvert_exporter": "python",
   "pygments_lexer": "ipython3",
   "version": "3.9.7"
  }
 },
 "nbformat": 4,
 "nbformat_minor": 5
}
